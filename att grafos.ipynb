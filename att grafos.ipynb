{
 "cells": [
  {
   "cell_type": "markdown",
   "metadata": {},
   "source": [
    "# Atividade de implementação d código sobre Grafos\n",
    "\n",
    "Atividade para implementação de código, para presença \n",
    "\n",
    "---\n"
   ]
  },
  {
   "cell_type": "markdown",
   "metadata": {},
   "source": [
    "## Pedido:\n",
    "\n",
    "<img src=\"pedido.png\">\n",
    "\n",
    "---"
   ]
  },
  {
   "cell_type": "markdown",
   "metadata": {},
   "source": [
    "### Pseudocód.\n",
    "\n",
    "```\n",
    "Algoritmo Coloração Gulosa Sequencial\n",
    "\n",
    "Entrada: G,K\n",
    "início\n",
    "\tpara v ∈ K(Na ordem de K) faça\n",
    "\t\tcor[v] + Cor com menor indice e não utilizada por vizinhos\n",
    "\tfim\n",
    "fim\n",
    "```\n",
    "\n",
    "segue implementação:\n",
    "\n",
    "---"
   ]
  },
  {
   "cell_type": "code",
   "execution_count": 6,
   "metadata": {},
   "outputs": [
    {
     "name": "stdout",
     "output_type": "stream",
     "text": [
      "Instalando ambiente, caso necessário\n"
     ]
    }
   ],
   "source": [
    "#análise \n",
    "print(\"Instalando ambiente, caso necessário\")"
   ]
  },
  {
   "cell_type": "code",
   "execution_count": 7,
   "metadata": {},
   "outputs": [],
   "source": [
    "# entrada: Uma lista representando a ordem em que os vértices serão processados.\n",
    "def coloracao_gulosa_sequencial(grafo, ordem_vertices):\n",
    "    \"\"\"\n",
    "    Implementação do algoritmo de Coloração Gulosa Sequencial.\n",
    "    \"\"\"\n",
    "    cores = {}  # Dicionário para armazenar as cores atribuídas aos vértices\n",
    "\n",
    "    # Para cada vértice na ordem fornecida\n",
    "    for vertice in ordem_vertices:\n",
    "        cores_vizinhos = set()  # Conjunto para armazenar as cores dos vizinhos\n",
    "\n",
    "        # Iterar sobre os vizinhos do vértice\n",
    "        for vizinho in grafo[vertice]:\n",
    "            if vizinho in cores:\n",
    "                cores_vizinhos.add(cores[vizinho])\n",
    "\n",
    "        # Encontrar a menor cor não utilizada pelos vizinhos\n",
    "        cor = 1\n",
    "        while cor in cores_vizinhos:\n",
    "            cor += 1\n",
    "\n",
    "        # Atribuir a menor cor disponível ao vértice\n",
    "        cores[vertice] = cor\n",
    "\n",
    "    # Para saida: Um dicionário onde as chaves são os vértices e os valores são as cores atribuídas a esses vértices.\n",
    "    return {\"cores\": cores}  # Retornar um dicionário com a chave \"cores\"\n"
   ]
  },
  {
   "cell_type": "markdown",
   "metadata": {},
   "source": [
    "# Grafo de entrada, pra exemplo:\n",
    "\n",
    "abaixo:\n",
    "<img src=\"\" alt=\"\">"
   ]
  },
  {
   "cell_type": "code",
   "execution_count": 8,
   "metadata": {},
   "outputs": [
    {
     "name": "stdout",
     "output_type": "stream",
     "text": [
      "Vértice A colorido com a cor 1\n",
      "Vértice B colorido com a cor 2\n",
      "Vértice C colorido com a cor 3\n",
      "Vértice D colorido com a cor 1\n",
      "Vértice E colorido com a cor 2\n"
     ]
    }
   ],
   "source": [
    "# Exemplo de entrada\n",
    "grafo = {\n",
    "    #Um dicionário representando o grafo, onde as chaves são os vértices e os valores são listas de vizinhos.\n",
    "    'A': ['B', 'C'],\n",
    "    'B': ['A', 'C', 'D'],\n",
    "    'C': ['A', 'B', 'D'],\n",
    "    'D': ['B', 'C', 'E'],\n",
    "    'E': ['D']\n",
    "    # etc...\n",
    "}\n",
    "\n",
    "ordem_vertices = ['A', 'B', 'C', 'D', 'E']\n",
    "\n",
    "# Chamada da função\n",
    "resultado = coloracao_gulosa_sequencial(grafo, ordem_vertices)\n",
    "\n",
    "# Exibindo as cores atribuídas aos vértices\n",
    "for vertice, cor in resultado[\"cores\"].items():\n",
    "    print(f'Vértice {vertice} colorido com a cor {cor}')\n"
   ]
  }
 ],
 "metadata": {
  "kernelspec": {
   "display_name": "Python 3",
   "language": "python",
   "name": "python3"
  },
  "language_info": {
   "codemirror_mode": {
    "name": "ipython",
    "version": 3
   },
   "file_extension": ".py",
   "mimetype": "text/x-python",
   "name": "python",
   "nbconvert_exporter": "python",
   "pygments_lexer": "ipython3",
   "version": "3.11.8"
  }
 },
 "nbformat": 4,
 "nbformat_minor": 2
}
